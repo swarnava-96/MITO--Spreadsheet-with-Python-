{
 "cells": [
  {
   "cell_type": "code",
   "execution_count": 1,
   "id": "511f63fc",
   "metadata": {},
   "outputs": [
    {
     "name": "stderr",
     "output_type": "stream",
     "text": [
      "Backing off send_request(...) for 0.7s (requests.exceptions.ReadTimeout: HTTPSConnectionPool(host='api.segment.io', port=443): Read timed out. (read timeout=15))\n"
     ]
    }
   ],
   "source": [
    "import mitosheet"
   ]
  },
  {
   "cell_type": "code",
   "execution_count": 2,
   "id": "fa0936ac",
   "metadata": {},
   "outputs": [
    {
     "data": {
      "application/vnd.jupyter.widget-view+json": {
       "model_id": "8ac6a764d9db4489bb496132a20626ff",
       "version_major": 2,
       "version_minor": 0
      },
      "text/plain": [
       "MitoWidget(analysis_name='UUID-5016a392-c976-4538-9a75-0ab650df53f6', code_json='{\"imports\": \"from mitosheet i…"
      ]
     },
     "metadata": {},
     "output_type": "display_data"
    }
   ],
   "source": [
    "mitosheet.sheet()"
   ]
  },
  {
   "cell_type": "code",
   "execution_count": null,
   "id": "2f1d887e-8ffb-4f58-827b-94a8bd302190",
   "metadata": {},
   "outputs": [],
   "source": [
    "# MITO CODE START (DO NOT EDIT)\n",
    "\n",
    "from mitosheet import * # Import necessary functions from Mito\n",
    "register_analysis('UUID-5016a392-c976-4538-9a75-0ab650df53f6') # Let Mito know which analysis is being run\n",
    "\n",
    "# Imported C:\\Users\\SWARNAVA\\Desktop\\Mito\\BankNote_Authentication.csv\n",
    "import pandas as pd\n",
    "BankNote_Authentication_csv = pd.read_csv('C:\\Users\\SWARNAVA\\Desktop\\Mito\\BankNote_Authentication.csv')\n",
    "\n",
    "# Added column F to BankNote_Authentication_csv\n",
    "BankNote_Authentication_csv.insert(1, 'F', 0)\n",
    "\n",
    "# Renamed class to updated_median in BankNote_Authentication_csv\n",
    "BankNote_Authentication_csv.rename(columns={\"class\": \"updated_median\"}, inplace=True)\n",
    "\n",
    "# Renamed updated_median to sum in BankNote_Authentication_csv\n",
    "BankNote_Authentication_csv.rename(columns={\"updated_median\": \"sum\"}, inplace=True)\n",
    "\n",
    "# Deleted column sum from BankNote_Authentication_csv\n",
    "BankNote_Authentication_csv.drop('sum', axis=1, inplace=True)\n",
    "\n",
    "# Added column G to BankNote_Authentication_csv\n",
    "BankNote_Authentication_csv.insert(5, 'G', 0)\n",
    "\n",
    "# Set G in BankNote_Authentication_csv to =SUM(skewness,curtosis)\n",
    "BankNote_Authentication_csv['G'] = SUM(BankNote_Authentication_csv['skewness'],BankNote_Authentication_csv['curtosis'])\n",
    "\n",
    "# Renamed G to sum in BankNote_Authentication_csv\n",
    "BankNote_Authentication_csv.rename(columns={\"G\": \"sum\"}, inplace=True)\n",
    "\n",
    "# Added column G to BankNote_Authentication_csv\n",
    "BankNote_Authentication_csv.insert(6, 'G', 0)\n",
    "\n",
    "# Set G in BankNote_Authentication_csv to =AVG(skewness,curtosis)\n",
    "BankNote_Authentication_csv['G'] = AVG(BankNote_Authentication_csv['skewness'],BankNote_Authentication_csv['curtosis'])\n",
    "\n",
    "# Set sum in BankNote_Authentication_csv to =SUM(variance,skewness,curtosis,entropy)\n",
    "BankNote_Authentication_csv['sum'] = SUM(BankNote_Authentication_csv['variance'],BankNote_Authentication_csv['skewness'],BankNote_Authentication_csv['curtosis'],BankNote_Authentication_csv['entropy'])\n",
    "\n",
    "# Set G in BankNote_Authentication_csv to =AVG(skewness,curtosis,variance,entropy)\n",
    "BankNote_Authentication_csv['G'] = AVG(BankNote_Authentication_csv['skewness'],BankNote_Authentication_csv['curtosis'],BankNote_Authentication_csv['variance'],BankNote_Authentication_csv['entropy'])\n",
    "\n",
    "# Renamed G to Average in BankNote_Authentication_csv\n",
    "BankNote_Authentication_csv.rename(columns={\"G\": \"Average\"}, inplace=True)\n",
    "\n",
    "# Filtered Average in BankNote_Authentication_csv\n",
    "BankNote_Authentication_csv = BankNote_Authentication_csv[BankNote_Authentication_csv['Average'] > 0]\n",
    "BankNote_Authentication_csv = BankNote_Authentication_csv.reset_index(drop=True)\n",
    "\n",
    "  \n",
    "# MITO CODE END (DO NOT EDIT)"
   ]
  }
 ],
 "metadata": {
  "kernelspec": {
   "display_name": "Python 3",
   "language": "python",
   "name": "python3"
  },
  "language_info": {
   "codemirror_mode": {
    "name": "ipython",
    "version": 3
   },
   "file_extension": ".py",
   "mimetype": "text/x-python",
   "name": "python",
   "nbconvert_exporter": "python",
   "pygments_lexer": "ipython3",
   "version": "3.8.10"
  }
 },
 "nbformat": 4,
 "nbformat_minor": 5
}
